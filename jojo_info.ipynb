{
 "cells": [
  {
   "cell_type": "code",
   "execution_count": 1,
   "id": "cdd017d5-f52e-4a84-8042-6559feb00f58",
   "metadata": {},
   "outputs": [],
   "source": [
    "#Importando Librerías\n",
    "import time\n",
    "import pandas as pd\n",
    "import numpy as np\n",
    "import matplotlib.pyplot as plt\n",
    "from selenium import webdriver\n",
    "from selenium.webdriver.common.by import By\n",
    "from webdriver_manager.chrome import ChromeDriverManager\n",
    "import warnings\n",
    "warnings.filterwarnings(\"ignore\")\n",
    "pd.set_option('display.max_rows', None)"
   ]
  },
  {
   "cell_type": "code",
   "execution_count": 2,
   "id": "5b3f1985-a9bb-4b4c-8bf9-6b82d74cb7d2",
   "metadata": {},
   "outputs": [],
   "source": [
    "#Creando WebDriver para la busqueda con Chrome\n",
    "driver = webdriver.Chrome(ChromeDriverManager().install())"
   ]
  },
  {
   "cell_type": "code",
   "execution_count": 3,
   "id": "e8979411-f898-4ace-ba28-43890f203dad",
   "metadata": {},
   "outputs": [],
   "source": [
    "#Ingresando a página para obtener información de las partes de Jojo's\n",
    "page_url = 'https://jojo.fandom.com/es/wiki/Battle_Tendency'\n",
    "driver.get(page_url)"
   ]
  },
  {
   "cell_type": "code",
   "execution_count": 12,
   "id": "9c8bbbe8-a8c3-4daa-8689-4a1c5fd0eec5",
   "metadata": {},
   "outputs": [],
   "source": [
    "#Encontrando partes\n",
    "jojo_info = driver.find_elements(By.XPATH,'/html/body/div[4]/div[3]/div[2]/main/div[3]/div[2]/div/table[1]')"
   ]
  },
  {
   "cell_type": "code",
   "execution_count": 16,
   "id": "38b26307-2d3e-4235-a408-dc6c4e23e4da",
   "metadata": {},
   "outputs": [
    {
     "data": {
      "text/plain": [
       "['Personaje Relación',\n",
       " 'Joseph Joestar protagonista',\n",
       " 'Smokey Brown aliado',\n",
       " 'Erina Joestar aliado',\n",
       " 'Robert Edward O. Speedwagon aliado',\n",
       " 'Rudol von Stroheim aliado (antes antagonista)',\n",
       " 'Caesar Anthonio Zeppeli aliado',\n",
       " 'Lisa Lisa aliado',\n",
       " 'Loggins y Messina aliados',\n",
       " 'Suzi Q aliado',\n",
       " 'Donovan antagonista',\n",
       " 'Straizo neutral (primero como antagonista)',\n",
       " 'Wired Beck antagonista',\n",
       " 'Santana antagonista',\n",
       " 'Esidisi antagonista',\n",
       " 'Wamuu aliado en la muerte (antes antagonista)',\n",
       " 'Kars antagonista principal']"
      ]
     },
     "execution_count": 16,
     "metadata": {},
     "output_type": "execute_result"
    }
   ],
   "source": [
    "jojo_info[0].text.split('\\n')"
   ]
  },
  {
   "cell_type": "code",
   "execution_count": null,
   "id": "3dbd9515-e4cf-4303-b8be-1f44cfafa828",
   "metadata": {},
   "outputs": [],
   "source": []
  }
 ],
 "metadata": {
  "kernelspec": {
   "display_name": "Python 3.9.7 ('venv': venv)",
   "language": "python",
   "name": "python3"
  },
  "language_info": {
   "codemirror_mode": {
    "name": "ipython",
    "version": 3
   },
   "file_extension": ".py",
   "mimetype": "text/x-python",
   "name": "python",
   "nbconvert_exporter": "python",
   "pygments_lexer": "ipython3",
   "version": "3.9.7"
  },
  "vscode": {
   "interpreter": {
    "hash": "1e0864d952f495cd9ce8c7387d0b058de805958718a50b3a3bed329aa45af8ce"
   }
  }
 },
 "nbformat": 4,
 "nbformat_minor": 5
}
