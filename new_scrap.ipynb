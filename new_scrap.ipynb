{
 "cells": [
  {
   "cell_type": "code",
   "execution_count": 1,
   "id": "3956552a-3f39-438d-b5bb-92c6ee762d2a",
   "metadata": {},
   "outputs": [],
   "source": [
    "# Importando Librerías\n",
    "import re\n",
    "import json\n",
    "import time\n",
    "import pprint\n",
    "import pandas as pd\n",
    "import numpy as np\n",
    "import matplotlib.pyplot as plt\n",
    "from selenium import webdriver\n",
    "from selenium.webdriver.common.by import By\n",
    "from webdriver_manager.chrome import ChromeDriverManager\n",
    "import warnings\n",
    "warnings.filterwarnings(\"ignore\")\n",
    "pd.set_option('display.max_rows', None)\n"
   ]
  },
  {
   "cell_type": "code",
   "execution_count": null,
   "id": "37ee57f8",
   "metadata": {},
   "outputs": [],
   "source": [
    "# with open('data/parts/jojo_parts.json', 'w', encoding='utf-8') as file:\n",
    "#     json.dump(jojo_data, file, indent=4, sort_keys=False)"
   ]
  },
  {
   "cell_type": "code",
   "execution_count": 2,
   "id": "a200cdd3-359f-434b-ba58-72be15a3d4cc",
   "metadata": {},
   "outputs": [],
   "source": [
    "# Creando WebDriver para la busqueda con Chrome\n",
    "driver = webdriver.Chrome(ChromeDriverManager().install())\n"
   ]
  },
  {
   "cell_type": "code",
   "execution_count": 3,
   "id": "c0d58f89-42bd-4d0e-8cc5-a1ffaebb2b72",
   "metadata": {},
   "outputs": [],
   "source": [
    "#Ingresando a página para obtener información de las partes de Jojo's\n",
    "page_url = f'https://jojowiki.com/Category:JoJo%27s_Bizarre_Adventure_Parts'\n",
    "driver.get(page_url)"
   ]
  },
  {
   "cell_type": "markdown",
   "id": "40b553f1",
   "metadata": {},
   "source": [
    "## Hallando URL/Imagen cada parte "
   ]
  },
  {
   "cell_type": "code",
   "execution_count": 4,
   "id": "c6492608-e75e-4314-8a63-c825d9894185",
   "metadata": {},
   "outputs": [
    {
     "data": {
      "text/plain": [
       "{'Phantom Blood': {'url': 'https://jojowiki.com/Phantom_Blood',\n",
       "  'image': 'https://static.jojowiki.com/images/thumb/b/b1/latest/20191015213555/Volume_1.jpg/200px-Volume_1.jpg'},\n",
       " 'Battle Tendency': {'url': 'https://jojowiki.com/Battle_Tendency',\n",
       "  'image': 'https://static.jojowiki.com/images/thumb/3/34/latest/20191015213237/Volume_11.jpg/200px-Volume_11.jpg'},\n",
       " 'Stardust Crusaders': {'url': 'https://jojowiki.com/Stardust_Crusaders',\n",
       "  'image': 'https://static.jojowiki.com/images/thumb/0/0a/latest/20191015212952/Volume_17.jpg/200px-Volume_17.jpg'},\n",
       " 'Diamond is Unbreakable': {'url': 'https://jojowiki.com/Diamond_is_Unbreakable',\n",
       "  'image': 'https://static.jojowiki.com/images/thumb/b/ba/latest/20191015213904/Volume_36.jpg/200px-Volume_36.jpg'},\n",
       " 'Vento Aureo': {'url': 'https://jojowiki.com/Vento_Aureo',\n",
       "  'image': 'https://static.jojowiki.com/images/thumb/4/40/latest/20191015215618/Volume_49.jpg/200px-Volume_49.jpg'},\n",
       " 'Stone Ocean': {'url': 'https://jojowiki.com/Stone_Ocean',\n",
       "  'image': 'https://static.jojowiki.com/images/thumb/a/a6/latest/20191015214320/Volume_80.jpg/200px-Volume_80.jpg'},\n",
       " 'Steel Ball Run': {'url': 'https://jojowiki.com/Steel_Ball_Run',\n",
       "  'image': 'https://static.jojowiki.com/images/thumb/2/24/latest/20191015215021/Volume_104.jpg/200px-Volume_104.jpg'},\n",
       " 'JoJolion': {'url': 'https://jojowiki.com/JoJolion',\n",
       "  'image': 'https://static.jojowiki.com/images/thumb/f/f0/latest/20191015212945/Volume_112.jpg/200px-Volume_112.jpg'}}"
      ]
     },
     "execution_count": 4,
     "metadata": {},
     "output_type": "execute_result"
    }
   ],
   "source": [
    "# Encontrando partes\n",
    "jojo_images = driver.find_elements(\n",
    "    By.XPATH, '//*[@id=\"mw-content-text\"]/div[2]/div[1]/div/div[2]/div/div[1]/a/img')\n",
    "jojo_url = driver.find_elements(\n",
    "    By.XPATH, '//*[@id=\"mw-content-text\"]/div[2]/div[1]/div/div[2]/div/div[2]/a'\n",
    ")\n",
    "\n",
    "jojo_data = {}\n",
    "for image, url in zip(jojo_images, jojo_url):\n",
    "\n",
    "    title = url.text\n",
    "    url = url.get_attribute('href')\n",
    "    image = image.get_attribute(\"src\")\n",
    "    jojo_data[title] = {'url': url}\n",
    "    jojo_data[title]['image'] = image\n",
    "\n",
    "# with open('data/parts/jojo_parts.json', 'w', encoding='utf-8') as file:\n",
    "#     json.dump(jojo_data, file, indent=4, sort_keys=False)\n",
    "\n",
    "jojo_data"
   ]
  },
  {
   "cell_type": "markdown",
   "id": "510b7769",
   "metadata": {},
   "source": [
    "## Hallando Info por Parte"
   ]
  },
  {
   "cell_type": "code",
   "execution_count": 5,
   "id": "57db9944-5dff-44f1-a953-d0b59f13c591",
   "metadata": {},
   "outputs": [],
   "source": [
    "for part in jojo_data.keys():\n",
    "    driver.get(jojo_data[part]['url'])\n",
    "    fields = driver.find_elements(By.XPATH, '//*[@id=\"mw-content-text\"]/div[2]/aside/div/h3')\n",
    "    datum = driver.find_elements(By.XPATH, '//*[@id=\"mw-content-text\"]/div/aside/div/div')\n",
    "    for field, data in zip(fields, datum):\n",
    "        resume = ' '.join([driver.find_element(By.XPATH, f'//*[@id=\"mw-content-text\"]/div[2]/p[{i}]').text for i in range(3,6)])\n",
    "        resume = re.sub(\"\\[.*?\\]\", \"\", resume)\n",
    "        jojo_data[part]['resume'] = resume\n",
    "        jojo_data[part][field.text.lower()] = data.text\n"
   ]
  },
  {
   "cell_type": "code",
   "execution_count": 6,
   "id": "e7693d54",
   "metadata": {},
   "outputs": [
    {
     "data": {
      "text/plain": [
       "{'Phantom Blood': {'url': 'https://jojowiki.com/Phantom_Blood',\n",
       "  'image': 'https://static.jojowiki.com/images/thumb/b/b1/latest/20191015213555/Volume_1.jpg/200px-Volume_1.jpg',\n",
       "  'resume': \"Phantom Blood (ファントムブラッド Fantomu Buraddo) is the first part of JoJo's Bizarre Adventure. It was originally serialized in Weekly Shonen Jump from December 1986 to October 1987 under the title of JoJo's Bizarre Adventure Part 1 Jonathan Joestar: His Youth, and was collected into five volumes by Jump Comics. The title Phantom Blood was first officially used in the book JOJO A-GO!GO!, and then later used for the Bunkoban release of the manga. The part has received two anime adaptations: a 2007 film by Studio A.P.P.P. and a 2012 TV series by David Production. It was also adapted into a 2006 PlayStation 2 game by Anchor Inc. and Bandai. The story follows Jonathan Joestar as he matures with and eventually battles his adoptive brother, the cunning and merciless Dio Brando.\",\n",
       "  'japanese name': 'ジョジョの奇妙な冒険\\nPart1 ファントムブラッド',\n",
       "  'romanized': 'Fantomu Buraddo',\n",
       "  'alternate names': \"JoJo's Bizarre Adventure\\nPart 1: Phantom Blood\",\n",
       "  'genre': 'Action, Adventure, Supernatural, Horror, Historical, Tragedy',\n",
       "  'years released': 'Dec 1986 - Oct 1987\\n2014',\n",
       "  'total pages': '859',\n",
       "  'volumes': 'Volume 1 - 5\\nJoJonium Volume 1 - 3',\n",
       "  'chapters': '44 chapters, Ch. 1 - 44',\n",
       "  'anime episodes': 'Episode 1 - Episode 9'},\n",
       " 'Battle Tendency': {'url': 'https://jojowiki.com/Battle_Tendency',\n",
       "  'image': 'https://static.jojowiki.com/images/thumb/3/34/latest/20191015213237/Volume_11.jpg/200px-Volume_11.jpg',\n",
       "  'resume': \"Battle Tendency (戦闘潮流 Sentō Chōryū) is the second part of JoJo's Bizarre Adventure. It was originally serialized in Weekly Shonen Jump from November 1987 to March 1989 under the title of JoJo's Bizarre Adventure Part 2 Joseph Joestar: His Proud Lineage, and was collected into seven volumes by Jump Comics. The title Battle Tendency was first officially used in the book JOJO A-GO!GO!, and then later used for the Bunkoban release of the manga. The part was adapted into a 2012 TV series by David Production. Battle Tendency is covered from the tenth episode onward. Taking place in 1938-1939, the story follows the misadventures of Joseph Joestar, grandson of Jonathan. Joseph's journey involves mastering his innate Ripple abilities in order to combat hostile, ancient superbeings named the Pillar Men, creators of the Stone Mask, that plot to achieve their final evolutions.\",\n",
       "  'japanese name': 'ジョジョの奇妙な冒険\\nPart2 戦闘潮流',\n",
       "  'romanized': 'Sentō Chōryū',\n",
       "  'alternate names': \"JoJo's Bizarre Adventure\\nPart 2: Battle Tendency\",\n",
       "  'genre': 'Action, Adventure, Supernatural, Horror, Historical',\n",
       "  'years released': '1987 - 1989\\n2015',\n",
       "  'total pages': '1259',\n",
       "  'volumes': 'Volume 5 - 12\\nJoJonium Volume 4 - 7',\n",
       "  'chapters': '69 chapters, Ch. 45 - 113',\n",
       "  'anime episodes': 'Episode 10 - Episode 26'},\n",
       " 'Stardust Crusaders': {'url': 'https://jojowiki.com/Stardust_Crusaders',\n",
       "  'image': 'https://static.jojowiki.com/images/thumb/0/0a/latest/20191015212952/Volume_17.jpg/200px-Volume_17.jpg',\n",
       "  'resume': \"Stardust Crusaders (スターダストクルセイダース Sutādasuto Kuruseidāsu) is the third part of JoJo's Bizarre Adventure. It was originally serialized in Weekly Shonen Jump from March 1989 to April 1992 under the title of JoJo's Bizarre Adventure Part 3 Jotaro Kujo: Heritage for the Future, and was collected into sixteen volumes by Jump Comics. The title Stardust Crusaders was first officially used in the book JOJO A-GO!GO!, and then later used for the Bunkoban and Shueisha Jump Remix release of the manga. The part has received two anime adaptations, a 1993 OVA series by Studio A.P.P.P., and a 2014 TV series by David Production. It was also adapted into a role-playing video game by WinkySoft and an arcade fighting game by Capcom. From 1988 to 1989, the story follows Jotaro Kujo and his friends as they journey from Tokyo to Cairo to save his mother's life by defeating his family's resurrected archenemy, DIO.\",\n",
       "  'japanese name': 'ジョジョの奇妙な冒険 Part3\\nスターダストクルセイダース',\n",
       "  'romanized': 'Sutādasuto Kuruseidāsu',\n",
       "  'alternate names': \"JoJo's Bizarre Adventure Part 3: Stardust Crusaders\",\n",
       "  'genre': 'Action, Adventure, Supernatural, Horror, Drama',\n",
       "  'years released': '1989 - 1992\\n2005 - 2010',\n",
       "  'total pages': '3046',\n",
       "  'volumes': 'Volume 12 - 28\\nVolume 1 - 16\\nJoJonium Volume 8 - 17',\n",
       "  'chapters': '152 chapters, Ch. 114 - 265',\n",
       "  'anime episodes': 'Anime\\nEpisode 27 - Episode 74\\nOVA\\nEpisode 1 - Episode 13'},\n",
       " 'Diamond is Unbreakable': {'url': 'https://jojowiki.com/Diamond_is_Unbreakable',\n",
       "  'image': 'https://static.jojowiki.com/images/thumb/b/ba/latest/20191015213904/Volume_36.jpg/200px-Volume_36.jpg',\n",
       "  'resume': \"Diamond is Unbreakable (ダイヤモンドは砕けない Daiyamondo wa Kudakenai), alternatively Diamond is not Crash, is the fourth part of JoJo's Bizarre Adventure, serialized in Weekly Shonen Jump from May 1992 to December 1995. Originally titled JoJo's Bizarre Adventure Part 4: Josuke Higashikata (ジョジョの奇妙な冒険 第4部 東方仗助 JoJo no Kimyō na Bōken Dai Yon Bu: Higashikata Jōsuke), the part spans 174 chapters and is preceded by Stardust Crusaders. In 1999, the Arrow, manifesting latent Stand abilities, travels throughout Morioh, Japan. Meanwhile, high school student Josuke Higashikata, the illegitimate son of Joseph Joestar, seeks out the culprits of a series of homicides along with his friends and Jotaro Kujo. The part received a 2016 anime adaptation by David Production and a live-action film adaptation covering the first couple of chapters in 2017.\",\n",
       "  'japanese name': 'ジョジョの奇妙な冒険 Part4\\nダイヤモンドは砕けない',\n",
       "  'romanized': 'Daiyamondo wa Kudakenai',\n",
       "  'alternate names': \"JoJo's Bizarre Adventure\\nPart 4: Diamond is not Crash[1]\\nDiamond is not Clash[2]\",\n",
       "  'genre': 'Action, Slice of Life, Adventure, Supernatural, Mystery',\n",
       "  'years released': '1992 – 1995\\n2019 - 2021',\n",
       "  'total pages': '3476',\n",
       "  'volumes': 'Volume 29 - 47\\nVolume 18 - 26',\n",
       "  'chapters': '174 chapters, Ch. 266 - 439',\n",
       "  'anime episodes': 'Episode 75 - Episode 113'},\n",
       " 'Vento Aureo': {'url': 'https://jojowiki.com/Vento_Aureo',\n",
       "  'image': 'https://static.jojowiki.com/images/thumb/4/40/latest/20191015215618/Volume_49.jpg/200px-Volume_49.jpg',\n",
       "  'resume': 'Vento Aureo (黄金の風 Ōgon no Kaze), translated into English as Golden Wind, is the fifth part of JoJo\\'s Bizarre Adventure, serialized in Weekly Shonen Jump from December 1995 to April 1999. Originally titled JoJo\\'s Bizarre Adventure Part 5 Giorno Giovanna: Golden Heritage (ジョジョの奇妙な冒険 第5部 ジョルノ・ジョバァーナ【黄金なる遺産】 JoJo no Kimyō na Bōken Dai Go Bu Joruno Jobāna ), the part spans a total of 155 chapters and takes place after Diamond is Unbreakable. Set in 2001 Italy, the story follows Giorno Giovanna and his dream to rise within the Neapolitan mafia and defeat the boss of Passione, the most powerful and influential gang, in order to become a \"Gang-Star\". With the aid of a capo and his men, and fueled by his own resolve, Giorno sets out to fulfill his goal of absolving the mafia of its corruption. The part received a 2018 anime adaptation by David Production. It was also adapted into an action-adventure video game by Capcom in 2002.',\n",
       "  'japanese name': 'ジョジョの奇妙な冒険\\nParte5 黄金の風',\n",
       "  'romanized': 'Ōgon no Kaze',\n",
       "  'alternate names': 'LE BIZZARRE AVVENTURE DI GIOGIO Parte5 VENTO AUREO\\nGolden Wind',\n",
       "  'genre': 'Action, Adventure, Mystery, Supernatural, Crime, Drama',\n",
       "  'years released': '1995 – 1999\\nSummer 2021',\n",
       "  'total pages': '3121',\n",
       "  'volumes': 'Volume 47 - 63\\nVolume 27 - ongoing',\n",
       "  'chapters': '155 chapters, Ch. 440 - 594',\n",
       "  'anime episodes': 'Episode 114 - Episode 152'},\n",
       " 'Stone Ocean': {'url': 'https://jojowiki.com/Stone_Ocean',\n",
       "  'image': 'https://static.jojowiki.com/images/thumb/a/a6/latest/20191015214320/Volume_80.jpg/200px-Volume_80.jpg',\n",
       "  'resume': 'Stone Ocean (ストーンオーシャン Sutōn Ōshan) is the sixth part of JoJo\\'s Bizarre Adventure, serialized in Weekly Shonen Jump from December 7, 1999 to April 8, 2003. Originally titled JoJo\\'s Bizarre Adventure Part 6 Jolyne Cujoh: Stone Ocean (ジョジョの奇妙な冒険 第6部 空条徐倫 ―『石作りの海\\nストーンオーシャン\\n』 JoJo no Kimyō na Bōken Dai Roku Bu Kūjō Jorīn -\"Sutōn Ōshan\"-), the part spans 158 chapters and is preceded by Vento Aureo. Set in 2011, Florida, Jolyne Cujoh, daughter of Jotaro, is wrongfully accused of a crime she didn\\'t commit and sent to a maximum security prison. While imprisoned, she struggles within a longstanding plot agreed between dead villain DIO and ideologue Enrico Pucci. Stone Ocean is the last part set in the original timeline of JoJo - from Steel Ball Run onwards, the story takes place in an entirely separate continuity.',\n",
       "  'japanese name': 'ジョジョの奇妙な冒険 Part6\\nストーンオーシャン',\n",
       "  'romanized': 'Sutōn Ōshan',\n",
       "  'alternate names': \"JoJo's Bizarre Adventure\\nPart 6: Stone Ocean\",\n",
       "  'genre': 'Action, Adventure, Supernatural, Drama, Tragedy',\n",
       "  'years released': 'Dec 7, 1999 – Apr 8, 2003',\n",
       "  'total pages': '3260',\n",
       "  'volumes': 'Volume 1 (64) - 17 (80)',\n",
       "  'chapters': '158 chapters, SO Ch. 1 - 158',\n",
       "  'anime episodes': 'Episode 153 - Episode 190'},\n",
       " 'Steel Ball Run': {'url': 'https://jojowiki.com/Steel_Ball_Run',\n",
       "  'image': 'https://static.jojowiki.com/images/thumb/2/24/latest/20191015215021/Volume_104.jpg/200px-Volume_104.jpg',\n",
       "  'resume': \"Steel Ball Run (スティール・ボール・ラン Sutīru Bōru Ran) is the seventh part of the JoJo's Bizarre Adventure series. Initially serialized in Weekly Shonen Jump from January 19, 2004 to October 18, 2004, the part's publication later moved to Ultra Jump, where it was serialized from March 19, 2005 to April 19, 2011. Set in the U.S. in 1890, the story follows Johnny Joestar, a paraplegic ex-jockey, and Gyro Zeppeli, master in the mystic art of the Spin, as the two compete in the trans-American Steel Ball Run race and uncover its benefactor's sinister motivations. Steel Ball Run marks the start of a new universe entirely divorced from the events of Parts 1-6. Despite this, the story retains several core features of JoJo, including Stands, as well as numerous references to the original continuity.\",\n",
       "  'japanese name': 'ジョジョの奇妙な冒険 Part7\\nスティール・ボール・ラン',\n",
       "  'romanized': 'Sutīru Bōru Ran',\n",
       "  'alternate names': \"JoJo's Bizarre Adventure\\nPart 7: Steel Ball Run\",\n",
       "  'genre': 'Action, Adventure, Supernatural, Drama, Historical, Sports, Western',\n",
       "  'years released': 'Jan 19, 2004 - Oct 18, 2004 (WSJ)\\nMar 19, 2005 - Apr 19, 2011 (UJ)',\n",
       "  'total pages': '4290',\n",
       "  'volumes': 'Volume 1 (81) - 24 (104)',\n",
       "  'chapters': '95 chapters, SBR Ch. 1 - 95'},\n",
       " 'JoJolion': {'url': 'https://jojowiki.com/JoJolion',\n",
       "  'image': 'https://static.jojowiki.com/images/thumb/f/f0/latest/20191015212945/Volume_112.jpg/200px-Volume_112.jpg',\n",
       "  'resume': \"JoJolion (ジョジョリオン JoJorion) is the award-winning eighth part of JoJo's Bizarre Adventure, serialized in Ultra Jump from May 19, 2011 to August 19, 2021. The story begins in 2011 and follows Josuke Higashikata, a young man afflicted by retrograde amnesia, in his search to uncover his identity in Morioh Town, a coastal Japanese town affected by the Tohoku earthquake. However, his digging pulls him and his adoptive family into the unfinished business between his previous life and an impending inhuman threat. JoJolion represents the second part of the series set in the Steel Ball Run continuity. The part also won the Grand Prize for manga at the 2013 Japan Media Arts Festival. In 2021, Araki won the Iwate Hometown Special Manga Award for Part 8 and his contributions to the prefecture.\",\n",
       "  'japanese name': 'ジョジョの奇妙な冒険 Part8\\nジョジョリオン',\n",
       "  'romanized': 'JoJorion',\n",
       "  'alternate names': \"JoJo's Bizarre Adventure\\nPart 8: JoJolion\",\n",
       "  'genre': 'Action, Adventure, Supernatural, Mystery, Romance, Drama',\n",
       "  'years released': 'May 2011 - August 2021',\n",
       "  'total pages': '4741',\n",
       "  'volumes': 'Volume 1 (105) - 27 (131)',\n",
       "  'chapters': '110 chapters, JJL Ch. 1 - 110'}}"
      ]
     },
     "execution_count": 6,
     "metadata": {},
     "output_type": "execute_result"
    }
   ],
   "source": [
    "jojo_data"
   ]
  },
  {
   "cell_type": "code",
   "execution_count": null,
   "id": "b5d1022e",
   "metadata": {},
   "outputs": [],
   "source": []
  },
  {
   "cell_type": "code",
   "execution_count": null,
   "id": "d93e5d25",
   "metadata": {},
   "outputs": [],
   "source": []
  },
  {
   "cell_type": "code",
   "execution_count": null,
   "id": "4a81e36e",
   "metadata": {},
   "outputs": [],
   "source": []
  },
  {
   "cell_type": "code",
   "execution_count": null,
   "id": "f36b6e2c",
   "metadata": {},
   "outputs": [],
   "source": []
  }
 ],
 "metadata": {
  "kernelspec": {
   "display_name": "Python 3.9.7 ('venv': venv)",
   "language": "python",
   "name": "python3"
  },
  "language_info": {
   "codemirror_mode": {
    "name": "ipython",
    "version": 3
   },
   "file_extension": ".py",
   "mimetype": "text/x-python",
   "name": "python",
   "nbconvert_exporter": "python",
   "pygments_lexer": "ipython3",
   "version": "3.9.7"
  },
  "vscode": {
   "interpreter": {
    "hash": "1e0864d952f495cd9ce8c7387d0b058de805958718a50b3a3bed329aa45af8ce"
   }
  }
 },
 "nbformat": 4,
 "nbformat_minor": 5
}
