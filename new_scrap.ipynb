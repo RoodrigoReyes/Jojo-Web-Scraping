{
 "cells": [
  {
   "cell_type": "code",
   "execution_count": null,
   "id": "3956552a-3f39-438d-b5bb-92c6ee762d2a",
   "metadata": {},
   "outputs": [],
   "source": [
    "#Importando Librerías\n",
    "import re\n",
    "import json\n",
    "import time\n",
    "import pprint\n",
    "import pandas as pd\n",
    "import numpy as np\n",
    "import matplotlib.pyplot as plt\n",
    "from selenium import webdriver\n",
    "from selenium.webdriver.common.by import By\n",
    "from webdriver_manager.chrome import ChromeDriverManager\n",
    "import warnings\n",
    "warnings.filterwarnings(\"ignore\")\n",
    "pd.set_option('display.max_rows', None)"
   ]
  },
  {
   "cell_type": "code",
   "execution_count": null,
   "id": "a200cdd3-359f-434b-ba58-72be15a3d4cc",
   "metadata": {},
   "outputs": [],
   "source": [
    "#Creando WebDriver para la busqueda con Chrome\n",
    "driver = webdriver.Chrome(ChromeDriverManager().install())"
   ]
  },
  {
   "cell_type": "code",
   "execution_count": null,
   "id": "c0d58f89-42bd-4d0e-8cc5-a1ffaebb2b72",
   "metadata": {},
   "outputs": [],
   "source": [
    "#Ingresando a página para obtener información de las partes de Jojo's\n",
    "page_url = f'https://jojowiki.com/Category:JoJo%27s_Bizarre_Adventure_Parts'\n",
    "driver.get(page_url)"
   ]
  },
  {
   "cell_type": "code",
   "execution_count": null,
   "id": "dcc00fd0-dc58-4a7f-8027-931be02105be",
   "metadata": {},
   "outputs": [],
   "source": [
    "#Encontrando partes\n",
    "jojo_parts = driver.find_elements(By.XPATH,'//*[@id=\"mw-content-text\"]/div[1]/div[1]/div/div[2]/div')"
   ]
  },
  {
   "cell_type": "code",
   "execution_count": null,
   "id": "c6492608-e75e-4314-8a63-c825d9894185",
   "metadata": {},
   "outputs": [],
   "source": [
    "jojo_data = {}\n",
    "for part in jojo_parts:\n",
    "    \n",
    "    title = part.text\n",
    "    title_url = title.replace(' ','_')\n",
    "    url = f'https://jojowiki.com/{title_url}'\n",
    "    jojo_data[title]={'url':url}"
   ]
  },
  {
   "cell_type": "code",
   "execution_count": null,
   "id": "d84d1bd9-37fa-46d0-8477-3e514421669e",
   "metadata": {},
   "outputs": [],
   "source": [
    "jojo_data"
   ]
  },
  {
   "cell_type": "code",
   "execution_count": null,
   "id": "412b5e4a-4e7e-4687-bbef-c85e190774f3",
   "metadata": {},
   "outputs": [],
   "source": [
    "for key,value in jojo_data.items():\n",
    "    driver.get(value['url'])\n",
    "    print(key,'->',value['url'])\n",
    "    info = driver.find_element(By.XPATH, '//*[@id=\"mw-content-text\"]/div/p[3]')\n",
    "    cln_info = (re.sub(\"\\[.*?\\]\",\"\",info.text))\n",
    "    jojo_data[key]['info'] = cln_info\n",
    "    \n",
    "    \n",
    "    resources = driver.find_elements(By.XPATH, '//*[@id=\"mw-content-text\"]/div/aside/div')\n",
    "    for resource in resources:\n",
    "        temp = resource.text.split('\\n',1)\n",
    "        jojo_data[key][temp[0].lower()] = temp[-1].replace('\\n',' ')\n",
    "        print('\\t',temp[0].lower(),'->',temp[-1].replace('\\n',' '))\n",
    "        \n",
    "    characters = driver.find_elements(By.XPATH, '//*[@id=\"mw-content-text\"]/div/div[14]/div/div[2]/div')\n",
    "    characters_href = driver.find_elements(By.XPATH, '//*[@id=\"mw-content-text\"]/div/div[14]/div/div[2]/div/div[3]/a')\n",
    "    \n",
    "    temp_dict = {}\n",
    "    for info, url in zip(characters, characters_href):\n",
    "        \n",
    "        time.sleep(2)\n",
    "        role_name = info.text.split('\\n')\n",
    "        role = role_name[0]\n",
    "        name = role_name[1]\n",
    "        url = url.get_attribute('href')\n",
    "        \n",
    "#         driver.get(url)\n",
    "#         time.sleep(2)\n",
    "        \n",
    "#         resume_xpath = driver.find_element(By.XPATH, '//*[@id=\"mw-content-text\"]/div/p[3]')\n",
    "#         resume = resume_xpath.text\n",
    "        temp_dict[name] = {'url':url, 'role':role}\n",
    "        \n",
    "    jojo_data[key]['characters'] = temp_dict\n",
    "    # print(jojo_data[key])"
   ]
  },
  {
   "cell_type": "code",
   "execution_count": null,
   "id": "18dba904-dd18-45cc-b8d0-54fcc648400f",
   "metadata": {},
   "outputs": [],
   "source": [
    "resume_xpath = driver.find_element(By.XPATH, '//*[@id=\"mw-content-text\"]/div/p[3]')\n",
    "resume = resume_xpath.text\n",
    "resume"
   ]
  },
  {
   "cell_type": "code",
   "execution_count": null,
   "id": "ae571dfd-ff78-4140-acd1-bbfd067fb118",
   "metadata": {},
   "outputs": [],
   "source": [
    "pprint.pprint(jojo_data)"
   ]
  },
  {
   "cell_type": "code",
   "execution_count": null,
   "id": "261bf3f6",
   "metadata": {},
   "outputs": [],
   "source": [
    "df = pd.DataFrame(jojo_data).T.reset_index()\n",
    "df.rename(columns={'index':'part'}, inplace=True)\n",
    "df"
   ]
  },
  {
   "cell_type": "code",
   "execution_count": null,
   "id": "a3b51e12-7d34-4bdb-a580-e39340eb5b67",
   "metadata": {},
   "outputs": [],
   "source": [
    "characters = driver.find_elements(By.XPATH, '//*[@id=\"mw-content-text\"]/div/div[14]/div/div[2]/div')\n",
    "characters[1].text"
   ]
  },
  {
   "cell_type": "code",
   "execution_count": null,
   "id": "7c3f4f70-dc36-4598-ab5b-92589d8f78d8",
   "metadata": {},
   "outputs": [],
   "source": [
    "driver.get('https://jojowiki.com/Stardust_Crusaders')"
   ]
  },
  {
   "cell_type": "code",
   "execution_count": null,
   "id": "b804d4b4-a8c8-4009-a14f-0a1008c99680",
   "metadata": {},
   "outputs": [],
   "source": [
    "characters = driver.find_elements(By.CLASS_NAME, 'diamond2')\n",
    "characters_href = driver.find_elements(By.CLASS_NAME, 'diamond2')"
   ]
  },
  {
   "cell_type": "code",
   "execution_count": null,
   "id": "53d06752-9509-49ac-a27c-c43bdd2d3523",
   "metadata": {},
   "outputs": [],
   "source": [
    "data_list = characters[0].text.split('\\n')\n",
    "[data_list[i:i+3] for i in range(0, len(data_list), 3)]"
   ]
  },
  {
   "cell_type": "code",
   "execution_count": null,
   "id": "3824a5de-e309-42b7-a070-79d94e9aad83",
   "metadata": {},
   "outputs": [],
   "source": []
  },
  {
   "cell_type": "code",
   "execution_count": null,
   "id": "a35952ae-684e-426a-b58b-3d95c6ab06d7",
   "metadata": {},
   "outputs": [],
   "source": []
  },
  {
   "cell_type": "code",
   "execution_count": null,
   "id": "ba078a5c-aaf2-4baa-ac49-583d17cf85ec",
   "metadata": {},
   "outputs": [],
   "source": [
    "with open('jojo_data.json', 'w',encoding='utf-8') as file:\n",
    "    json.dump(jojo_data, file, indent=4, sort_keys=False)"
   ]
  },
  {
   "cell_type": "code",
   "execution_count": null,
   "id": "57db9944-5dff-44f1-a953-d0b59f13c591",
   "metadata": {},
   "outputs": [],
   "source": []
  }
 ],
 "metadata": {
  "kernelspec": {
   "display_name": "Python 3.9.7 ('venv': venv)",
   "language": "python",
   "name": "python3"
  },
  "language_info": {
   "codemirror_mode": {
    "name": "ipython",
    "version": 3
   },
   "file_extension": ".py",
   "mimetype": "text/x-python",
   "name": "python",
   "nbconvert_exporter": "python",
   "pygments_lexer": "ipython3",
   "version": "3.9.7"
  },
  "vscode": {
   "interpreter": {
    "hash": "1e0864d952f495cd9ce8c7387d0b058de805958718a50b3a3bed329aa45af8ce"
   }
  }
 },
 "nbformat": 4,
 "nbformat_minor": 5
}
