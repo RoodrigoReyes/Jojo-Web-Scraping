{
 "cells": [
  {
   "cell_type": "code",
   "execution_count": 1,
   "id": "3956552a-3f39-438d-b5bb-92c6ee762d2a",
   "metadata": {},
   "outputs": [],
   "source": [
    "# Importando Librerías\n",
    "import re\n",
    "import json\n",
    "import time\n",
    "import pprint\n",
    "import pandas as pd\n",
    "import numpy as np\n",
    "import matplotlib.pyplot as plt\n",
    "from selenium import webdriver\n",
    "from selenium.webdriver.common.by import By\n",
    "from webdriver_manager.chrome import ChromeDriverManager\n",
    "import warnings\n",
    "warnings.filterwarnings(\"ignore\")\n",
    "pd.set_option('display.max_rows', None)\n"
   ]
  },
  {
   "cell_type": "code",
   "execution_count": 2,
   "id": "37ee57f8",
   "metadata": {},
   "outputs": [],
   "source": [
    "# with open('data/parts/jojo_parts.json', 'w', encoding='utf-8') as file:\n",
    "#     json.dump(jojo_data, file, indent=4, sort_keys=False)"
   ]
  },
  {
   "cell_type": "code",
   "execution_count": 3,
   "id": "a200cdd3-359f-434b-ba58-72be15a3d4cc",
   "metadata": {},
   "outputs": [],
   "source": [
    "# Creando WebDriver para la busqueda con Chrome\n",
    "driver = webdriver.Chrome(ChromeDriverManager().install())\n"
   ]
  },
  {
   "cell_type": "code",
   "execution_count": 4,
   "id": "c0d58f89-42bd-4d0e-8cc5-a1ffaebb2b72",
   "metadata": {},
   "outputs": [],
   "source": [
    "#Ingresando a página para obtener información de las partes de Jojo's\n",
    "page_url = f'https://jojowiki.com/Category:JoJo%27s_Bizarre_Adventure_Parts'\n",
    "driver.get(page_url)"
   ]
  },
  {
   "cell_type": "markdown",
   "id": "40b553f1",
   "metadata": {},
   "source": [
    "## Hallando URL/Imagen cada parte "
   ]
  },
  {
   "cell_type": "code",
   "execution_count": 5,
   "id": "c6492608-e75e-4314-8a63-c825d9894185",
   "metadata": {},
   "outputs": [
    {
     "data": {
      "text/plain": [
       "{'Phantom Blood': {'url': 'https://jojowiki.com/Phantom_Blood',\n",
       "  'image': 'https://static.jojowiki.com/images/b/b1/latest/20191015213555/Volume_1.jpg'},\n",
       " 'Battle Tendency': {'url': 'https://jojowiki.com/Battle_Tendency',\n",
       "  'image': 'https://static.jojowiki.com/images/3/34/latest/20191015213237/Volume_11.jpg'},\n",
       " 'Stardust Crusaders': {'url': 'https://jojowiki.com/Stardust_Crusaders',\n",
       "  'image': 'https://static.jojowiki.com/images/0/0a/latest/20191015212952/Volume_17.jpg'},\n",
       " 'Diamond is Unbreakable': {'url': 'https://jojowiki.com/Diamond_is_Unbreakable',\n",
       "  'image': 'https://static.jojowiki.com/images/b/ba/latest/20191015213904/Volume_36.jpg'},\n",
       " 'Vento Aureo': {'url': 'https://jojowiki.com/Vento_Aureo',\n",
       "  'image': 'https://static.jojowiki.com/images/4/40/latest/20191015215618/Volume_49.jpg'},\n",
       " 'Stone Ocean': {'url': 'https://jojowiki.com/Stone_Ocean',\n",
       "  'image': 'https://static.jojowiki.com/images/a/a6/latest/20191015214320/Volume_80.jpg'},\n",
       " 'Steel Ball Run': {'url': 'https://jojowiki.com/Steel_Ball_Run',\n",
       "  'image': 'https://static.jojowiki.com/images/2/24/latest/20191015215021/Volume_104.jpg'},\n",
       " 'JoJolion': {'url': 'https://jojowiki.com/JoJolion',\n",
       "  'image': 'https://static.jojowiki.com/images/f/f0/latest/20191015212945/Volume_112.jpg'}}"
      ]
     },
     "execution_count": 5,
     "metadata": {},
     "output_type": "execute_result"
    }
   ],
   "source": [
    "# Encontrando partes\n",
    "jojo_images = driver.find_elements(\n",
    "    By.XPATH, '//*[@id=\"mw-content-text\"]/div[2]/div[1]/div/div[2]/div/div[1]/a/img')\n",
    "jojo_url = driver.find_elements(\n",
    "    By.XPATH, '//*[@id=\"mw-content-text\"]/div[2]/div[1]/div/div[2]/div/div[2]/a'\n",
    ")\n",
    "\n",
    "jojo_parts = {}\n",
    "for image, url in zip(jojo_images, jojo_url):\n",
    "\n",
    "    title = url.text\n",
    "    url = url.get_attribute('href')\n",
    "\n",
    "    image = image.get_attribute('src')\n",
    "\n",
    "    image = image.replace('/thumb','').split('/')\n",
    "    image = '/'.join(image[:-1])\n",
    "    \n",
    "    jojo_parts[title] = {\"url\": url}\n",
    "    jojo_parts[title][\"image\"] = image\n",
    "    \n",
    "\n",
    "# with open('data/parts/jojo_parts.json', 'w', encoding='utf-8') as file:\n",
    "#     json.dump(jojo_parts, file, indent=4, sort_keys=False)\n",
    "\n",
    "jojo_parts"
   ]
  },
  {
   "cell_type": "markdown",
   "id": "510b7769",
   "metadata": {},
   "source": [
    "## Hallando Info por Parte"
   ]
  },
  {
   "cell_type": "code",
   "execution_count": 6,
   "id": "6057b575",
   "metadata": {},
   "outputs": [],
   "source": [
    "jojo_data = jojo_parts.copy()"
   ]
  },
  {
   "cell_type": "code",
   "execution_count": 7,
   "id": "71c4cd2d",
   "metadata": {},
   "outputs": [
    {
     "data": {
      "text/plain": [
       "['Phantom Blood',\n",
       " 'Battle Tendency',\n",
       " 'Stardust Crusaders',\n",
       " 'Diamond is Unbreakable',\n",
       " 'Vento Aureo',\n",
       " 'Stone Ocean',\n",
       " 'Steel Ball Run',\n",
       " 'JoJolion']"
      ]
     },
     "execution_count": 7,
     "metadata": {},
     "output_type": "execute_result"
    }
   ],
   "source": [
    "partes = list(jojo_data.keys())\n",
    "partes"
   ]
  },
  {
   "cell_type": "markdown",
   "id": "6fac6ebe",
   "metadata": {},
   "source": [
    "## Characters"
   ]
  },
  {
   "cell_type": "code",
   "execution_count": null,
   "id": "d2dc3389",
   "metadata": {},
   "outputs": [],
   "source": [
    "xpath = {'Phantom Blood': '//*[@id=\"mw-content-text\"]/div[2]/div[14]/div/div[2]/div/div[1]/a',\n",
    "         'Battle Tendency': '//*[@id=\"mw-content-text\"]/div[2]/div[15]/div/div[2]/div/div[1]/a',\n",
    "         'Stardust Crusaders':'//*[@id=\"mw-content-text\"]/div[2]/div[31]/div/div[2]/div/div[1]/p/span[1]/a',\n",
    "         'Diamond is Unbreakable':'//*[@id=\"mw-content-text\"]/div[2]/div[22]/div/div[2]/div/div[1]/p/span[1]/a',\n",
    "         'Vento Aureo':''}\n"
   ]
  },
  {
   "cell_type": "code",
   "execution_count": null,
   "id": "57db9944-5dff-44f1-a953-d0b59f13c591",
   "metadata": {},
   "outputs": [],
   "source": [
    "for part in jojo_data.keys():\n",
    "    driver.get(jojo_data[part][\"url\"])\n",
    "\n",
    "    fields = driver.find_elements(\n",
    "        By.XPATH, '//*[@id=\"mw-content-text\"]/div[2]/aside/div/h3')\n",
    "\n",
    "    datum = driver.find_elements(\n",
    "        By.XPATH, '//*[@id=\"mw-content-text\"]/div/aside/div/div')\n",
    "\n",
    "    for field, data in zip(fields, datum):\n",
    "        resume = ' '.join([driver.find_element(\n",
    "            By.XPATH, f'//*[@id=\"mw-content-text\"]/div[2]/p[{i}]').text for i in range(3, 6)])\n",
    "\n",
    "        resume = re.sub(\"\\[.*?\\]\", \"\", resume)\n",
    "        jojo_data[part][\"resume\"] = resume\n",
    "        jojo_data[part][field.text.lower()] = data.text\n",
    "\n",
    "    print(part.upper(), '\\t', jojo_data[part][\"url\"])\n",
    "    temp = {}\n",
    "    for character in characters:\n",
    "        name = character.get_attribute('title')\n",
    "        url = character.get_attribute('href')\n",
    "        print(name, url)\n",
    "        \n",
    "        \n",
    "    #     temp[name] = {\"url\":url}\n",
    "    # jojo_data[part][\"characters\"] = temp\n",
    "    \n",
    "    print('-'*45)\n",
    "    break\n"
   ]
  },
  {
   "cell_type": "code",
   "execution_count": null,
   "id": "f23be09a",
   "metadata": {},
   "outputs": [],
   "source": [
    "temp"
   ]
  },
  {
   "cell_type": "code",
   "execution_count": null,
   "id": "4a81e36e",
   "metadata": {},
   "outputs": [],
   "source": [
    "jojo_data"
   ]
  },
  {
   "cell_type": "code",
   "execution_count": null,
   "id": "f36b6e2c",
   "metadata": {},
   "outputs": [],
   "source": [
    "with open('test.json', 'w', encoding='utf-8') as file:\n",
    "    json.dump(jojo_data, file)"
   ]
  },
  {
   "cell_type": "code",
   "execution_count": null,
   "id": "7a839d70",
   "metadata": {},
   "outputs": [],
   "source": []
  }
 ],
 "metadata": {
  "kernelspec": {
   "display_name": "Python 3.9.7 ('venv': venv)",
   "language": "python",
   "name": "python3"
  },
  "language_info": {
   "codemirror_mode": {
    "name": "ipython",
    "version": 3
   },
   "file_extension": ".py",
   "mimetype": "text/x-python",
   "name": "python",
   "nbconvert_exporter": "python",
   "pygments_lexer": "ipython3",
   "version": "3.9.7"
  },
  "vscode": {
   "interpreter": {
    "hash": "1e0864d952f495cd9ce8c7387d0b058de805958718a50b3a3bed329aa45af8ce"
   }
  }
 },
 "nbformat": 4,
 "nbformat_minor": 5
}
