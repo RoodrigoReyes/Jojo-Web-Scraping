{
 "cells": [
  {
   "cell_type": "code",
   "execution_count": 1,
   "id": "3956552a-3f39-438d-b5bb-92c6ee762d2a",
   "metadata": {},
   "outputs": [],
   "source": [
    "#Importando Librerías\n",
    "import re\n",
    "import json\n",
    "import time\n",
    "import pprint\n",
    "import pandas as pd\n",
    "import numpy as np\n",
    "import matplotlib.pyplot as plt\n",
    "from selenium import webdriver\n",
    "from selenium.webdriver.common.by import By\n",
    "from webdriver_manager.chrome import ChromeDriverManager\n",
    "import warnings\n",
    "warnings.filterwarnings(\"ignore\")\n",
    "pd.set_option('display.max_rows', None)"
   ]
  },
  {
   "cell_type": "code",
   "execution_count": 2,
   "id": "a200cdd3-359f-434b-ba58-72be15a3d4cc",
   "metadata": {},
   "outputs": [
    {
     "name": "stderr",
     "output_type": "stream",
     "text": [
      "[WDM] - Downloading: 100%|██████████| 6.68M/6.68M [00:53<00:00, 131kB/s] \n"
     ]
    }
   ],
   "source": [
    "#Creando WebDriver para la busqueda con Chrome\n",
    "driver = webdriver.Chrome(ChromeDriverManager().install())"
   ]
  },
  {
   "cell_type": "code",
   "execution_count": 3,
   "id": "c0d58f89-42bd-4d0e-8cc5-a1ffaebb2b72",
   "metadata": {},
   "outputs": [],
   "source": [
    "#Ingresando a página para obtener información de las partes de Jojo's\n",
    "page_url = f'https://jojowiki.com/Category:JoJo%27s_Bizarre_Adventure_Parts'\n",
    "driver.get(page_url)"
   ]
  },
  {
   "cell_type": "code",
   "execution_count": 13,
   "id": "dcc00fd0-dc58-4a7f-8027-931be02105be",
   "metadata": {},
   "outputs": [
    {
     "data": {
      "text/plain": [
       "[<selenium.webdriver.remote.webelement.WebElement (session=\"a339e90982180b1297671fdd5bcbeaa9\", element=\"adc82a0b-7bf1-47a8-af1c-e86d3a251817\")>,\n",
       " <selenium.webdriver.remote.webelement.WebElement (session=\"a339e90982180b1297671fdd5bcbeaa9\", element=\"1e52464f-9dee-4479-86ed-75c05f4d1af6\")>,\n",
       " <selenium.webdriver.remote.webelement.WebElement (session=\"a339e90982180b1297671fdd5bcbeaa9\", element=\"c42544d5-56e0-443d-903b-257f4838c835\")>,\n",
       " <selenium.webdriver.remote.webelement.WebElement (session=\"a339e90982180b1297671fdd5bcbeaa9\", element=\"6a07dc11-8caa-46ff-8dc7-d9cf69d42a72\")>,\n",
       " <selenium.webdriver.remote.webelement.WebElement (session=\"a339e90982180b1297671fdd5bcbeaa9\", element=\"9146a6fe-8c93-46d1-b59b-0fcb7e45cf9e\")>,\n",
       " <selenium.webdriver.remote.webelement.WebElement (session=\"a339e90982180b1297671fdd5bcbeaa9\", element=\"aa90a6b9-19e6-47a0-b0b7-db5885431968\")>,\n",
       " <selenium.webdriver.remote.webelement.WebElement (session=\"a339e90982180b1297671fdd5bcbeaa9\", element=\"d05cc8ee-36fd-46cd-b94f-ff315e8a29e8\")>,\n",
       " <selenium.webdriver.remote.webelement.WebElement (session=\"a339e90982180b1297671fdd5bcbeaa9\", element=\"2dbd7590-9a08-4838-9111-6c4daf2be674\")>]"
      ]
     },
     "execution_count": 13,
     "metadata": {},
     "output_type": "execute_result"
    }
   ],
   "source": [
    "#Encontrando partes\n",
    "jojo_parts = driver.find_elements(By.XPATH,'//*[@id=\"mw-content-text\"]/div[2]/div[1]/div/div[2]/div/div[2]/a')\n",
    "jojo_parts"
   ]
  },
  {
   "cell_type": "code",
   "execution_count": 14,
   "id": "c6492608-e75e-4314-8a63-c825d9894185",
   "metadata": {},
   "outputs": [
    {
     "data": {
      "text/plain": [
       "{'Phantom Blood': {'url': 'https://jojowiki.com/Phantom_Blood'},\n",
       " 'Battle Tendency': {'url': 'https://jojowiki.com/Battle_Tendency'},\n",
       " 'Stardust Crusaders': {'url': 'https://jojowiki.com/Stardust_Crusaders'},\n",
       " 'Diamond is Unbreakable': {'url': 'https://jojowiki.com/Diamond_is_Unbreakable'},\n",
       " 'Vento Aureo': {'url': 'https://jojowiki.com/Vento_Aureo'},\n",
       " 'Stone Ocean': {'url': 'https://jojowiki.com/Stone_Ocean'},\n",
       " 'Steel Ball Run': {'url': 'https://jojowiki.com/Steel_Ball_Run'},\n",
       " 'JoJolion': {'url': 'https://jojowiki.com/JoJolion'}}"
      ]
     },
     "execution_count": 14,
     "metadata": {},
     "output_type": "execute_result"
    }
   ],
   "source": [
    "jojo_data = {}\n",
    "for part in jojo_parts:\n",
    "    \n",
    "    title = part.text\n",
    "    url = part.get_attribute('href')\n",
    "    jojo_data[title]={'url':url}\n",
    "\n",
    "jojo_data"
   ]
  },
  {
   "cell_type": "code",
   "execution_count": null,
   "id": "412b5e4a-4e7e-4687-bbef-c85e190774f3",
   "metadata": {},
   "outputs": [],
   "source": [
    "for key,value in jojo_data.items():\n",
    "    driver.get(value['url'])\n",
    "    print(key,'->',value['url'])\n",
    "    info = driver.find_element(By.XPATH, '//*[@id=\"mw-content-text\"]/div/p[3]')\n",
    "    cln_info = (re.sub(\"\\[.*?\\]\",\"\",info.text))\n",
    "    jojo_data[key]['info'] = cln_info\n",
    "    \n",
    "    \n",
    "    resources = driver.find_elements(By.XPATH, '//*[@id=\"mw-content-text\"]/div/aside/div')\n",
    "    for resource in resources:\n",
    "        temp = resource.text.split('\\n',1)\n",
    "        jojo_data[key][temp[0].lower()] = temp[-1].replace('\\n',' ')\n",
    "        print('\\t',temp[0].lower(),'->',temp[-1].replace('\\n',' '))\n",
    "        \n",
    "    characters = driver.find_elements(By.XPATH, '//*[@id=\"mw-content-text\"]/div/div[14]/div/div[2]/div')\n",
    "    characters_href = driver.find_elements(By.XPATH, '//*[@id=\"mw-content-text\"]/div/div[14]/div/div[2]/div/div[3]/a')\n",
    "    \n",
    "    temp_dict = {}\n",
    "    for info, url in zip(characters, characters_href):\n",
    "        \n",
    "        time.sleep(2)\n",
    "        role_name = info.text.split('\\n')\n",
    "        role = role_name[0]\n",
    "        name = role_name[1]\n",
    "        url = url.get_attribute('href')\n",
    "        \n",
    "#         driver.get(url)\n",
    "#         time.sleep(2)\n",
    "        \n",
    "#         resume_xpath = driver.find_element(By.XPATH, '//*[@id=\"mw-content-text\"]/div/p[3]')\n",
    "#         resume = resume_xpath.text\n",
    "        temp_dict[name] = {'url':url, 'role':role}\n",
    "        \n",
    "    jojo_data[key]['characters'] = temp_dict\n",
    "    # print(jojo_data[key])"
   ]
  },
  {
   "cell_type": "code",
   "execution_count": null,
   "id": "18dba904-dd18-45cc-b8d0-54fcc648400f",
   "metadata": {},
   "outputs": [],
   "source": [
    "resume_xpath = driver.find_element(By.XPATH, '//*[@id=\"mw-content-text\"]/div/p[3]')\n",
    "resume = resume_xpath.text\n",
    "resume"
   ]
  },
  {
   "cell_type": "code",
   "execution_count": null,
   "id": "ae571dfd-ff78-4140-acd1-bbfd067fb118",
   "metadata": {},
   "outputs": [],
   "source": [
    "pprint.pprint(jojo_data)"
   ]
  },
  {
   "cell_type": "code",
   "execution_count": null,
   "id": "261bf3f6",
   "metadata": {},
   "outputs": [],
   "source": [
    "df = pd.DataFrame(jojo_data).T.reset_index()\n",
    "df.rename(columns={'index':'part'}, inplace=True)\n",
    "df"
   ]
  },
  {
   "cell_type": "code",
   "execution_count": null,
   "id": "a3b51e12-7d34-4bdb-a580-e39340eb5b67",
   "metadata": {},
   "outputs": [],
   "source": [
    "characters = driver.find_elements(By.XPATH, '//*[@id=\"mw-content-text\"]/div/div[14]/div/div[2]/div')\n",
    "characters[1].text"
   ]
  },
  {
   "cell_type": "code",
   "execution_count": null,
   "id": "7c3f4f70-dc36-4598-ab5b-92589d8f78d8",
   "metadata": {},
   "outputs": [],
   "source": [
    "driver.get('https://jojowiki.com/Stardust_Crusaders')"
   ]
  },
  {
   "cell_type": "code",
   "execution_count": null,
   "id": "b804d4b4-a8c8-4009-a14f-0a1008c99680",
   "metadata": {},
   "outputs": [],
   "source": [
    "characters = driver.find_elements(By.CLASS_NAME, 'diamond2')\n",
    "characters_href = driver.find_elements(By.CLASS_NAME, 'diamond2')"
   ]
  },
  {
   "cell_type": "code",
   "execution_count": null,
   "id": "53d06752-9509-49ac-a27c-c43bdd2d3523",
   "metadata": {},
   "outputs": [],
   "source": [
    "data_list = characters[0].text.split('\\n')\n",
    "[data_list[i:i+3] for i in range(0, len(data_list), 3)]"
   ]
  },
  {
   "cell_type": "code",
   "execution_count": null,
   "id": "3824a5de-e309-42b7-a070-79d94e9aad83",
   "metadata": {},
   "outputs": [],
   "source": []
  },
  {
   "cell_type": "code",
   "execution_count": null,
   "id": "a35952ae-684e-426a-b58b-3d95c6ab06d7",
   "metadata": {},
   "outputs": [],
   "source": []
  },
  {
   "cell_type": "code",
   "execution_count": null,
   "id": "ba078a5c-aaf2-4baa-ac49-583d17cf85ec",
   "metadata": {},
   "outputs": [],
   "source": [
    "with open('jojo_data.json', 'w',encoding='utf-8') as file:\n",
    "    json.dump(jojo_data, file, indent=4, sort_keys=False)"
   ]
  },
  {
   "cell_type": "code",
   "execution_count": null,
   "id": "57db9944-5dff-44f1-a953-d0b59f13c591",
   "metadata": {},
   "outputs": [],
   "source": []
  }
 ],
 "metadata": {
  "kernelspec": {
   "display_name": "Python 3.9.7 ('venv': venv)",
   "language": "python",
   "name": "python3"
  },
  "language_info": {
   "codemirror_mode": {
    "name": "ipython",
    "version": 3
   },
   "file_extension": ".py",
   "mimetype": "text/x-python",
   "name": "python",
   "nbconvert_exporter": "python",
   "pygments_lexer": "ipython3",
   "version": "3.9.7"
  },
  "vscode": {
   "interpreter": {
    "hash": "1e0864d952f495cd9ce8c7387d0b058de805958718a50b3a3bed329aa45af8ce"
   }
  }
 },
 "nbformat": 4,
 "nbformat_minor": 5
}
